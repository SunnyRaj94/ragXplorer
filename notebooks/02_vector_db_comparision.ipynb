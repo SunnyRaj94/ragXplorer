{
 "cells": [
  {
   "cell_type": "markdown",
   "id": "dbc105e0",
   "metadata": {},
   "source": [
    "### 📌 Goal: Compare performance across vector DBs: Chroma, FAISS, Qdrant, Weaviate"
   ]
  },
  {
   "cell_type": "code",
   "execution_count": 1,
   "id": "3e061f17",
   "metadata": {},
   "outputs": [],
   "source": [
    "from rag_utils.chunking import chunk_texts\n",
    "from rag_utils.embeddings import get_embeddings\n",
    "from rag_utils.ingestion import extract_text\n",
    "from rag_utils.indexing import (\n",
    "    get_chroma_collection,\n",
    "    get_faiss_index,\n",
    "    get_weaviate_collection_local,\n",
    "    get_qdrant_collection_local,\n",
    "    add_to_chroma,\n",
    "    add_to_faiss,\n",
    "    add_to_qdrant_local,\n",
    "    add_to_weaviate_local,\n",
    ")\n",
    "from config import settings\n",
    "import os"
   ]
  },
  {
   "cell_type": "code",
   "execution_count": 2,
   "id": "af52dc5d",
   "metadata": {},
   "outputs": [],
   "source": [
    "ingestion_folder = settings['paths']['ingestion_folder']\n",
    "sample_file_path = os.path.join(ingestion_folder, 'machine_learning.txt')\n",
    "data_folder = settings['paths']['data_folder']\n",
    "text = extract_text(sample_file_path)"
   ]
  },
  {
   "cell_type": "code",
   "execution_count": 3,
   "id": "89c1ce71",
   "metadata": {},
   "outputs": [],
   "source": [
    "chunks = chunk_texts([text])\n",
    "texts = [d for d in chunks]\n",
    "embs = get_embeddings(texts)"
   ]
  },
  {
   "cell_type": "code",
   "execution_count": null,
   "id": "d17e6637",
   "metadata": {},
   "outputs": [],
   "source": [
    "chroma = get_chroma_collection(os.path.join(ingestion_folder, \"chroma_store\"))\n",
    "add_to_chroma(chroma, texts, embs)\n",
    "\n",
    "faiss = get_faiss_index(os.path.join(ingestion_folder, \"faiss_store\"))\n",
    "add_to_faiss(faiss, embs)\n",
    "\n",
    "qdrant = get_qdrant_collection_local()\n",
    "add_to_qdrant_local(qdrant, embs, texts)\n",
    "\n",
    "weaviate = get_weaviate_collection_local()\n",
    "add_to_weaviate_local(weaviate, embs, texts)"
   ]
  },
  {
   "cell_type": "code",
   "execution_count": null,
   "id": "674d9e19",
   "metadata": {},
   "outputs": [
    {
     "name": "stdout",
     "output_type": "stream",
     "text": [
      "Chroma time: 5.359708070755005\n"
     ]
    }
   ],
   "source": [
    "query = \"What is the topic of the text?\"\n",
    "\n",
    "from time import time\n",
    "start = time()\n",
    "q_emb = get_embeddings(query)\n",
    "_ = chroma.query(q_emb)\n",
    "print(\"Chroma time:\", time() - start)"
   ]
  },
  {
   "cell_type": "code",
   "execution_count": 13,
   "id": "ed01e7fe",
   "metadata": {},
   "outputs": [
    {
     "name": "stdout",
     "output_type": "stream",
     "text": [
      "FAISS time: 0.006227016448974609\n"
     ]
    }
   ],
   "source": [
    "import numpy as np\n",
    "# Convert to float32 numpy array\n",
    "start = time()\n",
    "query_np = np.array(q_emb, dtype=\"float32\").reshape(1, -1)\n",
    "distances, indices = faiss.search(query_np, k=5)\n",
    "print(\"FAISS time:\", time() - start)"
   ]
  },
  {
   "cell_type": "code",
   "execution_count": 14,
   "id": "a76e4901",
   "metadata": {},
   "outputs": [
    {
     "name": "stdout",
     "output_type": "stream",
     "text": [
      "Qdrant time: 0.0028700828552246094\n"
     ]
    },
    {
     "name": "stderr",
     "output_type": "stream",
     "text": [
      "/var/folders/38/sknm76sx0pn_hk94zlgzh5v80000gn/T/ipykernel_2574/1146728299.py:3: DeprecationWarning: `search` method is deprecated and will be removed in the future. Use `query_points` instead.\n",
      "  search_result = qdrant.search(\n"
     ]
    }
   ],
   "source": [
    "# Qdrant\n",
    "start = time()\n",
    "search_result = qdrant.search(\n",
    "        collection_name='rag_collection',\n",
    "        query_vector=q_emb,\n",
    "        limit=5,\n",
    "        with_payload=True,\n",
    "    )\n",
    "print(\"Qdrant time:\", time() - start)"
   ]
  }
 ],
 "metadata": {
  "kernelspec": {
   "display_name": "rag_app",
   "language": "python",
   "name": "python3"
  },
  "language_info": {
   "codemirror_mode": {
    "name": "ipython",
    "version": 3
   },
   "file_extension": ".py",
   "mimetype": "text/x-python",
   "name": "python",
   "nbconvert_exporter": "python",
   "pygments_lexer": "ipython3",
   "version": "3.13.2"
  }
 },
 "nbformat": 4,
 "nbformat_minor": 5
}
