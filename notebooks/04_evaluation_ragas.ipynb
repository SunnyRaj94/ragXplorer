{
 "cells": [
  {
   "cell_type": "markdown",
   "id": "d84d4ed7",
   "metadata": {},
   "source": [
    "### 📌 Goal: Evaluate the RAG pipeline using RAGAS (faithfulness, answer relevance, etc.)"
   ]
  },
  {
   "cell_type": "code",
   "execution_count": null,
   "id": "28a4b7b7",
   "metadata": {},
   "outputs": [],
   "source": [
    "from ragas import evaluate\n",
    "from ragas.metrics import answer_relevancy, faithfulness"
   ]
  },
  {
   "cell_type": "code",
   "execution_count": null,
   "id": "60fdf9a1",
   "metadata": {},
   "outputs": [],
   "source": [
    "# ✅ STEP 1: Setup QA Pairs\n",
    "examples = [\n",
    "    {\n",
    "        \"question\": \"What is Retrieval Augmented Generation?\",\n",
    "        \"contexts\": [\"Retrieval-Augmented Generation (RAG) combines document retrieval with generation to improve LLM accuracy.\"],\n",
    "        \"ground_truth\": \"RAG is a method that augments LLMs with retrieved documents to generate more accurate answers.\",\n",
    "        \"answer\": \"RAG enhances LLMs by fetching relevant documents before generating a response.\"\n",
    "    },\n",
    "]"
   ]
  },
  {
   "cell_type": "code",
   "execution_count": null,
   "id": "75a467b8",
   "metadata": {},
   "outputs": [],
   "source": [
    "# ✅ STEP 2: Run Evaluation\n",
    "results = evaluate(\n",
    "    examples,\n",
    "    metrics=[answer_relevancy, faithfulness],\n",
    ")"
   ]
  },
  {
   "cell_type": "code",
   "execution_count": null,
   "id": "129d45ca",
   "metadata": {},
   "outputs": [],
   "source": [
    "# ✅ STEP 3: Show Results\n",
    "for metric, value in results.items():\n",
    "    print(f\"{metric.name}: {value:.2f}\")"
   ]
  }
 ],
 "metadata": {
  "kernelspec": {
   "display_name": "rag_app",
   "language": "python",
   "name": "python3"
  },
  "language_info": {
   "name": "python",
   "version": "3.13.2"
  }
 },
 "nbformat": 4,
 "nbformat_minor": 5
}
