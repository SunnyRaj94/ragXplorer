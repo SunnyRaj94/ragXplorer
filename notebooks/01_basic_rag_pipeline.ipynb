{
 "cells": [
  {
   "cell_type": "code",
   "execution_count": null,
   "id": "63213f09",
   "metadata": {},
   "outputs": [],
   "source": [
    "# ✅ Setup\n",
    "from rag_utils.embeddings import get_embeddings\n",
    "from rag_utils.indexing import build_faiss_index, get_chroma_collection, add_to_chroma\n",
    "from rag_utils.retrieval import retrieve_documents\n",
    "from rag_utils.llm_integration import query_llm\n",
    "from rag_utils.evaluation import evaluate_generation\n",
    "from config import settings"
   ]
  },
  {
   "cell_type": "code",
   "execution_count": 2,
   "id": "b718540a",
   "metadata": {},
   "outputs": [],
   "source": [
    "texts = [\n",
    "    \"Retrieval-Augmented Generation (RAG) combines search and generation.\",\n",
    "    \"FAISS is a library for efficient similarity search.\",\n",
    "    \"Chroma is a vector database that supports persistence.\",\n",
    "    \"Ollama runs local LLMs like Mistral and Llama 3 on your machine.\"\n",
    "]\n",
    "docs = [{\"text\": t, \"metadata\": {}} for t in texts]"
   ]
  },
  {
   "cell_type": "code",
   "execution_count": 3,
   "id": "d690a208",
   "metadata": {},
   "outputs": [],
   "source": [
    "# ✅ Embeddings\n",
    "embs = get_embeddings([doc[\"text\"] for doc in docs])"
   ]
  },
  {
   "cell_type": "code",
   "execution_count": 12,
   "id": "38a08fe8",
   "metadata": {},
   "outputs": [
    {
     "data": {
      "text/plain": [
       "[-0.09049961715936661,\n",
       " 0.023931946605443954,\n",
       " -0.021431203931570053,\n",
       " 0.038706738501787186,\n",
       " -0.044790495187044144]"
      ]
     },
     "execution_count": 12,
     "metadata": {},
     "output_type": "execute_result"
    }
   ],
   "source": [
    "embs[0][:5]"
   ]
  },
  {
   "cell_type": "code",
   "execution_count": null,
   "id": "d079a73e",
   "metadata": {},
   "outputs": [],
   "source": [
    "# ✅ FAISS Indexing\n",
    "faiss_index = build_faiss_index(embs)"
   ]
  },
  {
   "cell_type": "code",
   "execution_count": 13,
   "id": "75fe66c8",
   "metadata": {},
   "outputs": [
    {
     "data": {
      "text/plain": [
       "<faiss.swigfaiss.IndexFlatL2; proxy of <Swig Object of type 'faiss::IndexFlatL2 *' at 0x168775680> >"
      ]
     },
     "execution_count": 13,
     "metadata": {},
     "output_type": "execute_result"
    }
   ],
   "source": [
    "faiss_index"
   ]
  },
  {
   "cell_type": "code",
   "execution_count": null,
   "id": "02c34d8e",
   "metadata": {},
   "outputs": [],
   "source": [
    "# ✅ Chroma Indexing (persistent)\n",
    "chroma_store_path = settings['paths']['chroma_store']\n",
    "chroma = get_chroma_collection(persist_dir=\"chroma_store\")\n",
    "add_to_chroma(chroma, [d[\"text\"] for d in docs], embs)"
   ]
  },
  {
   "cell_type": "code",
   "execution_count": null,
   "id": "729b601c",
   "metadata": {},
   "outputs": [],
   "source": [
    "# ✅ Query\n",
    "query = \"What is the role of FAISS in RAG?\"\n",
    "query_embedding = get_embeddings([query])[0]\n"
   ]
  },
  {
   "cell_type": "code",
   "execution_count": 8,
   "id": "982fd9f9",
   "metadata": {},
   "outputs": [],
   "source": [
    "# ✅ Retrieve with FAISS\n",
    "faiss_results = retrieve_documents(query_embedding, (faiss_index, docs), method=\"faiss\", k=2)\n",
    "faiss_context = \"\\n\".join([r[\"text\"] for r in faiss_results])"
   ]
  },
  {
   "cell_type": "code",
   "execution_count": 14,
   "id": "f7af4648",
   "metadata": {},
   "outputs": [
    {
     "data": {
      "text/plain": [
       "'FAISS is a library for efficient similarity search.\\nRetrieval-Augmented Generation (RAG) combines search and generation.'"
      ]
     },
     "execution_count": 14,
     "metadata": {},
     "output_type": "execute_result"
    }
   ],
   "source": [
    "faiss_context"
   ]
  },
  {
   "cell_type": "code",
   "execution_count": 9,
   "id": "156aaa46",
   "metadata": {},
   "outputs": [
    {
     "name": "stderr",
     "output_type": "stream",
     "text": [
      "/Users/sunnyraj/.cache/chroma/onnx_models/all-MiniLM-L6-v2/onnx.tar.gz: 100%|██████████| 79.3M/79.3M [00:26<00:00, 3.14MiB/s]\n"
     ]
    }
   ],
   "source": [
    "# ✅ Retrieve with Chroma\n",
    "chroma_results = retrieve_documents(query, chroma, method=\"chroma\", k=2)\n",
    "chroma_context = \"\\n\".join([r[\"text\"] for r in chroma_results])"
   ]
  },
  {
   "cell_type": "code",
   "execution_count": 15,
   "id": "62ce9152",
   "metadata": {},
   "outputs": [
    {
     "data": {
      "text/plain": [
       "'FAISS is a library for efficient similarity search.\\nRetrieval-Augmented Generation (RAG) combines search and generation.'"
      ]
     },
     "execution_count": 15,
     "metadata": {},
     "output_type": "execute_result"
    }
   ],
   "source": [
    "chroma_context"
   ]
  },
  {
   "cell_type": "code",
   "execution_count": 18,
   "id": "372cf2de",
   "metadata": {},
   "outputs": [
    {
     "name": "stdout",
     "output_type": "stream",
     "text": [
      "📤 LLM Response:\n",
      "  In Retrieval-Augmented Generation (RAG), FAISS plays a significant role as it provides an efficient method for similarity search, which is crucial for the retrieval component of RAG. Specifically, FAISS helps to quickly find items (such as text snippets or images) that are semantically similar to the query being processed by RAG. This allows RAG to generate more relevant and contextually appropriate responses.\n"
     ]
    }
   ],
   "source": [
    "# ✅ Run LLM (Ollama)\n",
    "response = query_llm(\n",
    "    query=query,\n",
    "    context=\"Use the context below to answer the user's question.\",\n",
    "    chat_history=[{\"role\": \"user\", \"content\": faiss_context}],\n",
    "    provider=\"ollama\",\n",
    "    model=\"mistral\"\n",
    ")\n",
    "print(\"📤 LLM Response:\\n\", response)"
   ]
  },
  {
   "cell_type": "code",
   "execution_count": 19,
   "id": "397851f0",
   "metadata": {},
   "outputs": [
    {
     "name": "stdout",
     "output_type": "stream",
     "text": [
      "📊 Evaluation: {'f1': 0.16666666666666666, 'similarity': np.float64(0.2588311534159718), 'context_recall': np.float64(0.30637012111773326)}\n"
     ]
    }
   ],
   "source": [
    "# ✅ Evaluation\n",
    "reference = \"FAISS helps RAG perform fast similarity search during retrieval.\"\n",
    "eval_result = evaluate_generation(response, reference, [r[\"text\"] for r in faiss_results])\n",
    "print(\"📊 Evaluation:\", eval_result)"
   ]
  }
 ],
 "metadata": {
  "kernelspec": {
   "display_name": "rag_app",
   "language": "python",
   "name": "python3"
  },
  "language_info": {
   "codemirror_mode": {
    "name": "ipython",
    "version": 3
   },
   "file_extension": ".py",
   "mimetype": "text/x-python",
   "name": "python",
   "nbconvert_exporter": "python",
   "pygments_lexer": "ipython3",
   "version": "3.13.2"
  }
 },
 "nbformat": 4,
 "nbformat_minor": 5
}
